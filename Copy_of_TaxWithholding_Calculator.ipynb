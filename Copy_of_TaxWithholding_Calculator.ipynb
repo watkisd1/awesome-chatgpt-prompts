{
  "nbformat": 4,
  "nbformat_minor": 0,
  "metadata": {
    "colab": {
      "provenance": [],
      "authorship_tag": "ABX9TyOZBT3vb4AXfyMVa+1lFtpb",
      "include_colab_link": true
    },
    "kernelspec": {
      "name": "python3",
      "display_name": "Python 3"
    },
    "language_info": {
      "name": "python"
    }
  },
  "cells": [
    {
      "cell_type": "markdown",
      "metadata": {
        "id": "view-in-github",
        "colab_type": "text"
      },
      "source": [
        "<a href=\"https://colab.research.google.com/github/watkisd1/awesome-chatgpt-prompts/blob/main/Copy_of_TaxWithholding_Calculator.ipynb\" target=\"_parent\"><img src=\"https://colab.research.google.com/assets/colab-badge.svg\" alt=\"Open In Colab\"/></a>"
      ]
    },
    {
      "cell_type": "code",
      "execution_count": null,
      "metadata": {
        "colab": {
          "base_uri": "https://localhost:8080/"
        },
        "id": "ElbGdRlZ0qo9",
        "outputId": "5980d2ce-4319-4dcb-bb19-9b65dfd5a21e"
      },
      "outputs": [
        {
          "output_type": "stream",
          "name": "stdout",
          "text": [
            "Please enter your income: 150000\n",
            "Please enter your filing status (single, married, head_of_household): married\n",
            "Please enter your number of allowances: 2\n",
            "The estimated tax withholding for an income of $150000.0 with filing status married and 2 allowances is $22278.0.\n"
          ]
        }
      ],
      "source": [
        "def calculate_tax_withholding(income, filing_status, allowances):\n",
        "    # Constants\n",
        "    STANDARD_DEDUCTION = {\n",
        "        'single': 12400,\n",
        "        'married': 24800,\n",
        "        'head_of_household': 18650\n",
        "    }\n",
        "    PERSONAL_EXEMPTION = 4050\n",
        "\n",
        "    # Calculate taxable income\n",
        "    taxable_income = income - STANDARD_DEDUCTION[filing_status] - (allowances * PERSONAL_EXEMPTION)\n",
        "\n",
        "    # Calculate tax\n",
        "    if taxable_income <= 9700:\n",
        "        tax = taxable_income * 0.10\n",
        "    elif taxable_income <= 39475:\n",
        "        tax = 970 + (taxable_income - 9700) * 0.12\n",
        "    elif taxable_income <= 84200:\n",
        "        tax = 4543 + (taxable_income - 39475) * 0.22\n",
        "    elif taxable_income <= 160725:\n",
        "        tax = 14382 + (taxable_income - 84200) * 0.24\n",
        "    elif taxable_income <= 204100:\n",
        "        tax = 32748 + (taxable_income - 160725) * 0.32\n",
        "    elif taxable_income <= 510300:\n",
        "        tax = 46628 + (taxable_income - 204100) * 0.35\n",
        "    else:\n",
        "        tax = 153798 + (taxable_income - 510300) * 0.37\n",
        "\n",
        "    return tax\n",
        "\n",
        "# Ask the user for their income\n",
        "income = float(input(\"Please enter your income: \"))\n",
        "\n",
        "# Ask the user for their filing status\n",
        "filing_status = input(\"Please enter your filing status (single, married, head_of_household): \")\n",
        "\n",
        "# Ask the user for their number of allowances\n",
        "allowances = int(input(\"Please enter your number of allowances: \"))\n",
        "\n",
        "# Calculate the tax withholding\n",
        "tax = calculate_tax_withholding(income, filing_status, allowances)\n",
        "\n",
        "# Display the result\n",
        "print(f'The estimated tax withholding for an income of ${income} with filing status {filing_status} and {allowances} allowances is ${tax}.')"
      ]
    }
  ]
}